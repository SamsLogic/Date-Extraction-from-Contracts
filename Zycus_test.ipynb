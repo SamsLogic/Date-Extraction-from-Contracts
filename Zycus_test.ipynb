{
  "nbformat": 4,
  "nbformat_minor": 0,
  "metadata": {
    "colab": {
      "name": "Zycus test",
      "provenance": [],
      "collapsed_sections": []
    },
    "kernelspec": {
      "display_name": "Python 3",
      "name": "python3"
    },
    "language_info": {
      "name": "python"
    },
    "widgets": {
      "application/vnd.jupyter.widget-state+json": {
        "af272f27250d4eecb40d9aea08df0ebd": {
          "model_module": "@jupyter-widgets/controls",
          "model_name": "HBoxModel",
          "model_module_version": "1.5.0",
          "state": {
            "_view_name": "HBoxView",
            "_dom_classes": [],
            "_model_name": "HBoxModel",
            "_view_module": "@jupyter-widgets/controls",
            "_model_module_version": "1.5.0",
            "_view_count": null,
            "_view_module_version": "1.5.0",
            "box_style": "",
            "layout": "IPY_MODEL_e5a2ce943e8640afa77d584b56bda67a",
            "_model_module": "@jupyter-widgets/controls",
            "children": [
              "IPY_MODEL_2a22fb3fa612466487ff09d7b5dda44d",
              "IPY_MODEL_21c25ed415bd47db866e9b2621e5b75d",
              "IPY_MODEL_2d892ad755e0472e9657f2328032336b"
            ]
          }
        },
        "e5a2ce943e8640afa77d584b56bda67a": {
          "model_module": "@jupyter-widgets/base",
          "model_name": "LayoutModel",
          "model_module_version": "1.2.0",
          "state": {
            "_view_name": "LayoutView",
            "grid_template_rows": null,
            "right": null,
            "justify_content": null,
            "_view_module": "@jupyter-widgets/base",
            "overflow": null,
            "_model_module_version": "1.2.0",
            "_view_count": null,
            "flex_flow": null,
            "width": null,
            "min_width": null,
            "border": null,
            "align_items": null,
            "bottom": null,
            "_model_module": "@jupyter-widgets/base",
            "top": null,
            "grid_column": null,
            "overflow_y": null,
            "overflow_x": null,
            "grid_auto_flow": null,
            "grid_area": null,
            "grid_template_columns": null,
            "flex": null,
            "_model_name": "LayoutModel",
            "justify_items": null,
            "grid_row": null,
            "max_height": null,
            "align_content": null,
            "visibility": null,
            "align_self": null,
            "height": null,
            "min_height": null,
            "padding": null,
            "grid_auto_rows": null,
            "grid_gap": null,
            "max_width": null,
            "order": null,
            "_view_module_version": "1.2.0",
            "grid_template_areas": null,
            "object_position": null,
            "object_fit": null,
            "grid_auto_columns": null,
            "margin": null,
            "display": null,
            "left": null
          }
        },
        "2a22fb3fa612466487ff09d7b5dda44d": {
          "model_module": "@jupyter-widgets/controls",
          "model_name": "HTMLModel",
          "model_module_version": "1.5.0",
          "state": {
            "_view_name": "HTMLView",
            "style": "IPY_MODEL_ed361e6421f64bf491833754cc077d58",
            "_dom_classes": [],
            "description": "",
            "_model_name": "HTMLModel",
            "placeholder": "​",
            "_view_module": "@jupyter-widgets/controls",
            "_model_module_version": "1.5.0",
            "value": "100%",
            "_view_count": null,
            "_view_module_version": "1.5.0",
            "description_tooltip": null,
            "_model_module": "@jupyter-widgets/controls",
            "layout": "IPY_MODEL_6bd7850c02884942b34935e4d88c2133"
          }
        },
        "21c25ed415bd47db866e9b2621e5b75d": {
          "model_module": "@jupyter-widgets/controls",
          "model_name": "FloatProgressModel",
          "model_module_version": "1.5.0",
          "state": {
            "_view_name": "ProgressView",
            "style": "IPY_MODEL_40fdd795975f4d61b9369c6fc6012512",
            "_dom_classes": [],
            "description": "",
            "_model_name": "FloatProgressModel",
            "bar_style": "success",
            "max": 48,
            "_view_module": "@jupyter-widgets/controls",
            "_model_module_version": "1.5.0",
            "value": 48,
            "_view_count": null,
            "_view_module_version": "1.5.0",
            "orientation": "horizontal",
            "min": 0,
            "description_tooltip": null,
            "_model_module": "@jupyter-widgets/controls",
            "layout": "IPY_MODEL_57b0799731ca4731827cbbbd2837e0a5"
          }
        },
        "2d892ad755e0472e9657f2328032336b": {
          "model_module": "@jupyter-widgets/controls",
          "model_name": "HTMLModel",
          "model_module_version": "1.5.0",
          "state": {
            "_view_name": "HTMLView",
            "style": "IPY_MODEL_8f9ea1b62fed4d7ca1d2660255026ea8",
            "_dom_classes": [],
            "description": "",
            "_model_name": "HTMLModel",
            "placeholder": "​",
            "_view_module": "@jupyter-widgets/controls",
            "_model_module_version": "1.5.0",
            "value": " 48/48 [00:27&lt;00:00,  1.85it/s]",
            "_view_count": null,
            "_view_module_version": "1.5.0",
            "description_tooltip": null,
            "_model_module": "@jupyter-widgets/controls",
            "layout": "IPY_MODEL_686696f865ab465ea6f5e67b80a2a065"
          }
        },
        "ed361e6421f64bf491833754cc077d58": {
          "model_module": "@jupyter-widgets/controls",
          "model_name": "DescriptionStyleModel",
          "model_module_version": "1.5.0",
          "state": {
            "_view_name": "StyleView",
            "_model_name": "DescriptionStyleModel",
            "description_width": "",
            "_view_module": "@jupyter-widgets/base",
            "_model_module_version": "1.5.0",
            "_view_count": null,
            "_view_module_version": "1.2.0",
            "_model_module": "@jupyter-widgets/controls"
          }
        },
        "6bd7850c02884942b34935e4d88c2133": {
          "model_module": "@jupyter-widgets/base",
          "model_name": "LayoutModel",
          "model_module_version": "1.2.0",
          "state": {
            "_view_name": "LayoutView",
            "grid_template_rows": null,
            "right": null,
            "justify_content": null,
            "_view_module": "@jupyter-widgets/base",
            "overflow": null,
            "_model_module_version": "1.2.0",
            "_view_count": null,
            "flex_flow": null,
            "width": null,
            "min_width": null,
            "border": null,
            "align_items": null,
            "bottom": null,
            "_model_module": "@jupyter-widgets/base",
            "top": null,
            "grid_column": null,
            "overflow_y": null,
            "overflow_x": null,
            "grid_auto_flow": null,
            "grid_area": null,
            "grid_template_columns": null,
            "flex": null,
            "_model_name": "LayoutModel",
            "justify_items": null,
            "grid_row": null,
            "max_height": null,
            "align_content": null,
            "visibility": null,
            "align_self": null,
            "height": null,
            "min_height": null,
            "padding": null,
            "grid_auto_rows": null,
            "grid_gap": null,
            "max_width": null,
            "order": null,
            "_view_module_version": "1.2.0",
            "grid_template_areas": null,
            "object_position": null,
            "object_fit": null,
            "grid_auto_columns": null,
            "margin": null,
            "display": null,
            "left": null
          }
        },
        "40fdd795975f4d61b9369c6fc6012512": {
          "model_module": "@jupyter-widgets/controls",
          "model_name": "ProgressStyleModel",
          "model_module_version": "1.5.0",
          "state": {
            "_view_name": "StyleView",
            "_model_name": "ProgressStyleModel",
            "description_width": "",
            "_view_module": "@jupyter-widgets/base",
            "_model_module_version": "1.5.0",
            "_view_count": null,
            "_view_module_version": "1.2.0",
            "bar_color": null,
            "_model_module": "@jupyter-widgets/controls"
          }
        },
        "57b0799731ca4731827cbbbd2837e0a5": {
          "model_module": "@jupyter-widgets/base",
          "model_name": "LayoutModel",
          "model_module_version": "1.2.0",
          "state": {
            "_view_name": "LayoutView",
            "grid_template_rows": null,
            "right": null,
            "justify_content": null,
            "_view_module": "@jupyter-widgets/base",
            "overflow": null,
            "_model_module_version": "1.2.0",
            "_view_count": null,
            "flex_flow": null,
            "width": null,
            "min_width": null,
            "border": null,
            "align_items": null,
            "bottom": null,
            "_model_module": "@jupyter-widgets/base",
            "top": null,
            "grid_column": null,
            "overflow_y": null,
            "overflow_x": null,
            "grid_auto_flow": null,
            "grid_area": null,
            "grid_template_columns": null,
            "flex": null,
            "_model_name": "LayoutModel",
            "justify_items": null,
            "grid_row": null,
            "max_height": null,
            "align_content": null,
            "visibility": null,
            "align_self": null,
            "height": null,
            "min_height": null,
            "padding": null,
            "grid_auto_rows": null,
            "grid_gap": null,
            "max_width": null,
            "order": null,
            "_view_module_version": "1.2.0",
            "grid_template_areas": null,
            "object_position": null,
            "object_fit": null,
            "grid_auto_columns": null,
            "margin": null,
            "display": null,
            "left": null
          }
        },
        "8f9ea1b62fed4d7ca1d2660255026ea8": {
          "model_module": "@jupyter-widgets/controls",
          "model_name": "DescriptionStyleModel",
          "model_module_version": "1.5.0",
          "state": {
            "_view_name": "StyleView",
            "_model_name": "DescriptionStyleModel",
            "description_width": "",
            "_view_module": "@jupyter-widgets/base",
            "_model_module_version": "1.5.0",
            "_view_count": null,
            "_view_module_version": "1.2.0",
            "_model_module": "@jupyter-widgets/controls"
          }
        },
        "686696f865ab465ea6f5e67b80a2a065": {
          "model_module": "@jupyter-widgets/base",
          "model_name": "LayoutModel",
          "model_module_version": "1.2.0",
          "state": {
            "_view_name": "LayoutView",
            "grid_template_rows": null,
            "right": null,
            "justify_content": null,
            "_view_module": "@jupyter-widgets/base",
            "overflow": null,
            "_model_module_version": "1.2.0",
            "_view_count": null,
            "flex_flow": null,
            "width": null,
            "min_width": null,
            "border": null,
            "align_items": null,
            "bottom": null,
            "_model_module": "@jupyter-widgets/base",
            "top": null,
            "grid_column": null,
            "overflow_y": null,
            "overflow_x": null,
            "grid_auto_flow": null,
            "grid_area": null,
            "grid_template_columns": null,
            "flex": null,
            "_model_name": "LayoutModel",
            "justify_items": null,
            "grid_row": null,
            "max_height": null,
            "align_content": null,
            "visibility": null,
            "align_self": null,
            "height": null,
            "min_height": null,
            "padding": null,
            "grid_auto_rows": null,
            "grid_gap": null,
            "max_width": null,
            "order": null,
            "_view_module_version": "1.2.0",
            "grid_template_areas": null,
            "object_position": null,
            "object_fit": null,
            "grid_auto_columns": null,
            "margin": null,
            "display": null,
            "left": null
          }
        }
      }
    },
    "accelerator": "GPU"
  },
  "cells": [
    {
      "cell_type": "markdown",
      "metadata": {
        "id": "eRjrbtxfp0TA"
      },
      "source": [
        "# Import Packages\n"
      ]
    },
    {
      "cell_type": "code",
      "metadata": {
        "id": "0iputAmZBY5T"
      },
      "source": [
        "# Importing requried packages\n",
        "\n",
        "import pandas as pd\n",
        "import numpy as np\n",
        "import matplotlib.pyplot as plt\n",
        "\n",
        "import tensorflow as tf\n",
        "print(tf.__version__)\n",
        "import tensorflow.keras.layers as L\n",
        "import tensorflow.keras.models as M\n",
        "import tensorflow.keras.optimizers as O\n",
        "import tensorflow.keras.losses as Lo\n",
        "!pip install tensorflow_text\n",
        "import tensorflow_text as text\n",
        "\n",
        "from tqdm.notebook import tqdm\n",
        "\n",
        "import os\n",
        "import random\n",
        "import re\n",
        "\n",
        "import string\n",
        "import nltk\n",
        "from nltk.corpus import stopwords\n",
        "from nltk.tokenize import word_tokenize\n",
        "from nltk.stem import WordNetLemmatizer\n",
        "\n",
        "from collections import defaultdict\n",
        "\n",
        "from joblib import Parallel, delayed"
      ],
      "execution_count": null,
      "outputs": []
    },
    {
      "cell_type": "code",
      "metadata": {
        "id": "_VlhcBaN88dE"
      },
      "source": [
        "# Importing NLP libraries for data preprocesing - text tokenization\n",
        "\n",
        "nltk.download('all')\n",
        "stop_words = set(stopwords.words('english'))\n",
        "words = set(nltk.corpus.words.words())\n",
        "words = [w.lower() for w in words]\n",
        "wordnet_lemmatizer = WordNetLemmatizer()\n",
        "tokenizer = nltk.tokenize.WhitespaceTokenizer()"
      ],
      "execution_count": null,
      "outputs": []
    },
    {
      "cell_type": "code",
      "metadata": {
        "id": "Xjl9rL2L2J9V"
      },
      "source": [
        "# Defining the Constants in the code\n",
        "\n",
        "BATCH_SIZE=8\n",
        "EPOCHS=80"
      ],
      "execution_count": null,
      "outputs": []
    },
    {
      "cell_type": "code",
      "metadata": {
        "id": "XRr8gJ5OBkNm"
      },
      "source": [
        "# Setting up the file path and loading data\n",
        "\n",
        "file_path = '/content/drive/MyDrive/Zycus/train'\n",
        "train_data = pd.read_csv(os.path.join(file_path,'train.csv'))\n",
        "test_data = pd.read_csv(os.path.join(file_path,'prediction.csv'))\n",
        "files = os.listdir(os.path.join(file_path,'full_contract_txt/'))"
      ],
      "execution_count": 3,
      "outputs": []
    },
    {
      "cell_type": "code",
      "metadata": {
        "colab": {
          "base_uri": "https://localhost:8080/",
          "height": 206
        },
        "id": "1MLznYHVE6sD",
        "outputId": "4dd09d6d-84c9-4820-eb89-6c37250bfcd5"
      },
      "source": [
        "train_data.head()"
      ],
      "execution_count": 504,
      "outputs": [
        {
          "output_type": "execute_result",
          "data": {
            "text/html": [
              "<div>\n",
              "<style scoped>\n",
              "    .dataframe tbody tr th:only-of-type {\n",
              "        vertical-align: middle;\n",
              "    }\n",
              "\n",
              "    .dataframe tbody tr th {\n",
              "        vertical-align: top;\n",
              "    }\n",
              "\n",
              "    .dataframe thead th {\n",
              "        text-align: right;\n",
              "    }\n",
              "</style>\n",
              "<table border=\"1\" class=\"dataframe\">\n",
              "  <thead>\n",
              "    <tr style=\"text-align: right;\">\n",
              "      <th></th>\n",
              "      <th>file</th>\n",
              "      <th>Start Date</th>\n",
              "      <th>Start Date-Answer</th>\n",
              "    </tr>\n",
              "  </thead>\n",
              "  <tbody>\n",
              "    <tr>\n",
              "      <th>0</th>\n",
              "      <td>CybergyHoldingsInc_20140520_10-Q_EX-10.27_8605...</td>\n",
              "      <td>['This agreement shall begin upon the date of ...</td>\n",
              "      <td>[]/[]/[]</td>\n",
              "    </tr>\n",
              "    <tr>\n",
              "      <th>1</th>\n",
              "      <td>EuromediaHoldingsCorp_20070215_10SB12G_EX-10.B...</td>\n",
              "      <td>['July 11 , 2006']</td>\n",
              "      <td>7/11/2006</td>\n",
              "    </tr>\n",
              "    <tr>\n",
              "      <th>2</th>\n",
              "      <td>FulucaiProductionsLtd_20131223_10-Q_EX-10.9_83...</td>\n",
              "      <td>['November 15, 2012']</td>\n",
              "      <td>11/15/2012</td>\n",
              "    </tr>\n",
              "    <tr>\n",
              "      <th>3</th>\n",
              "      <td>GopageCorp_20140221_10-K_EX-10.1_8432966_EX-10...</td>\n",
              "      <td>['Feb 10, 2014']</td>\n",
              "      <td>2/10/2014</td>\n",
              "    </tr>\n",
              "    <tr>\n",
              "      <th>4</th>\n",
              "      <td>IdeanomicsInc_20160330_10-K_EX-10.26_9512211_E...</td>\n",
              "      <td>['December 21, 2015']</td>\n",
              "      <td>12/21/2015</td>\n",
              "    </tr>\n",
              "  </tbody>\n",
              "</table>\n",
              "</div>"
            ],
            "text/plain": [
              "                                                file  ... Start Date-Answer\n",
              "0  CybergyHoldingsInc_20140520_10-Q_EX-10.27_8605...  ...          []/[]/[]\n",
              "1  EuromediaHoldingsCorp_20070215_10SB12G_EX-10.B...  ...         7/11/2006\n",
              "2  FulucaiProductionsLtd_20131223_10-Q_EX-10.9_83...  ...        11/15/2012\n",
              "3  GopageCorp_20140221_10-K_EX-10.1_8432966_EX-10...  ...         2/10/2014\n",
              "4  IdeanomicsInc_20160330_10-K_EX-10.26_9512211_E...  ...        12/21/2015\n",
              "\n",
              "[5 rows x 3 columns]"
            ]
          },
          "metadata": {},
          "execution_count": 504
        }
      ]
    },
    {
      "cell_type": "markdown",
      "metadata": {
        "id": "zc0T8YwbNkzy"
      },
      "source": [
        "#Data Cleaning"
      ]
    },
    {
      "cell_type": "code",
      "metadata": {
        "id": "DL6AH5hBIoyZ"
      },
      "source": [
        "# Identifying different filetypes in the given csv file to be changed to .txt file as per the given text files.\n",
        "\n",
        "val = set()\n",
        "for i in range(len(train_data)):\n",
        "    val.add(train_data.file.values[i][-4:])\n",
        "\n",
        "print(val)"
      ],
      "execution_count": null,
      "outputs": []
    },
    {
      "cell_type": "code",
      "metadata": {
        "id": "uvSA4FeQJawE"
      },
      "source": [
        "# Clearing the exeption cases individually\n",
        "\n",
        "for i in range(len(train_data)):\n",
        "    if train_data.file.values[i][-4:] == \"PDF'\":\n",
        "        print(train_data.file[i])\n",
        "\n",
        "train_data['file'].replace(\"KALLOINC_11_03_2011-EX-10.1-STRATEGIC ALLIANCE AGREEMENT.PDF'\",\n",
        "                           \"KALLOINC_11_03_2011-EX-10.1-STRATEGIC ALLIANCE AGREEMENT.PDF\",\n",
        "                           inplace=True)"
      ],
      "execution_count": 506,
      "outputs": []
    },
    {
      "cell_type": "code",
      "metadata": {
        "id": "EHVXjEZWE1pm"
      },
      "source": [
        "def change_ext(data):\n",
        "    \"\"\" \n",
        "    \n",
        "    Function to change extension text in the csv files \n",
        "    \n",
        "    \"\"\"\n",
        "\n",
        "    return data[:-4] + '.txt'"
      ],
      "execution_count": 8,
      "outputs": []
    },
    {
      "cell_type": "code",
      "metadata": {
        "id": "XTJqz_haD3V5"
      },
      "source": [
        "# Identifying the exception cases whose extension was not changed\n",
        "\n",
        "counter = 0\n",
        "missing = []\n",
        "files = os.listdir(os.path.join(file_path,'full_contract_txt/'))\n",
        "train_data.file = train_data.file.apply(change_ext)\n",
        "for i in range(len(train_data)):\n",
        "    if train_data.file.values[i] not in files:\n",
        "        print(train_data.iloc[i])\n",
        "        missing.append(train_data.file.values[i])\n",
        "        counter+=1\n",
        "print(len(files),counter)  "
      ],
      "execution_count": null,
      "outputs": []
    },
    {
      "cell_type": "code",
      "metadata": {
        "id": "T4Bmh4oEHpM6"
      },
      "source": [
        "# Replacing the exception cases with the correct values in the csv file\n",
        "\n",
        "new_vals = [\"PLAYAHOTELS_RESORTSNV_03_14_2017-EX-10.22-STRATEGIC ALLIANCE AGREEMENT (Hyatt Ziva Cancun).txt\",\n",
        "            \"MACY_S,INC_05_11_2020-EX-99.4-JOINT FILING AGREEMENT.txt\",\n",
        "            \"MOELIS_CO_03_24_2014-EX-10.19-STRATEGIC ALLIANCE AGREEMENT.txt\"]\n",
        "train_data.file.replace(missing,new_vals,inplace=True)"
      ],
      "execution_count": 11,
      "outputs": []
    },
    {
      "cell_type": "code",
      "metadata": {
        "id": "aOQDqnhVAH7K"
      },
      "source": [
        "# Filling the Nan values in the csv file with []/[]/[] value\n",
        "\n",
        "train_data['Start Date-Answer'].fillna('[]/[]/[]',inplace=True)"
      ],
      "execution_count": 507,
      "outputs": []
    },
    {
      "cell_type": "markdown",
      "metadata": {
        "id": "t19fN35lNoyM"
      },
      "source": [
        "# Data Preprocessing"
      ]
    },
    {
      "cell_type": "code",
      "metadata": {
        "id": "b98gYiqoGJlg"
      },
      "source": [
        "# Fetching and storing the data in the text files\n",
        "\n",
        "data = []\n",
        "for i in range(len(train_files)):\n",
        "    with open(os.path.join(file_path,'full_contract_txt/'+train_files[i]),'r') as f:\n",
        "        data.append(f.read())"
      ],
      "execution_count": 15,
      "outputs": []
    },
    {
      "cell_type": "code",
      "metadata": {
        "id": "FoKH_9Um-40T"
      },
      "source": [
        "def preprocess_text(text_array):\n",
        "    \"\"\" \n",
        "    \n",
        "    Function to preprocess the texts by tokenizing, lemmatizing, removing stopwords and punctuations,etc \n",
        "        \n",
        "        Inputs: Text string \n",
        "        Return: list of tokenized text values\n",
        "    \n",
        "    \"\"\"\n",
        "\n",
        "    processed_text = []\n",
        "    for i in tqdm(range(len(text_array))):\n",
        "        text = text_array[i]\n",
        "        text = word_tokenize(text)\n",
        "        text = [w for w in text[:500] if not w.lower() in stop_words]\n",
        "        for i in range(len(text)):\n",
        "            if text[i].isdigit() == False and text[i].isalpha() == False:\n",
        "                temp = text[i]\n",
        "                text[i] = ''\n",
        "                for k in temp:\n",
        "                    if k.isdigit() == True:\n",
        "                        text[i] += k \n",
        "        \n",
        "        text = ''.join([w.lower() for w in ' '.join(text) if w not in string.punctuation])\n",
        "        text = word_tokenize(text)\n",
        "        text = [wordnet_lemmatizer.lemmatize(w,pos='v') for w in text]\n",
        "        text = [w for w in text if w.lower() in words or w.isdigit() == True]\n",
        "        processed_text.append(text)\n",
        "    return processed_text\n",
        "\n",
        "class vectorizer():\n",
        "    def __init__(self,):\n",
        "        self.word2vec = defaultdict(lambda:0)\n",
        "        self.day2vec = defaultdict(lambda:0)\n",
        "        self.month2vec = defaultdict(lambda:0)\n",
        "        self.year2vec = defaultdict(lambda:0)\n",
        "    \n",
        "    def fit(self,text_array):\n",
        "        \"\"\" \n",
        "    \n",
        "        Function to prepare a word to vector dictionary from the input data \n",
        "        \n",
        "          Inputs: list of text values \n",
        "    \n",
        "        \"\"\"\n",
        "        counter = 1\n",
        "        for i in range(len(text_array)):\n",
        "            for j in range(len(text_array[i])):\n",
        "                if text_array[i][j] not in self.word2vec.keys():\n",
        "                    counter+=1\n",
        "                    self.word2vec[text_array[i][j]] = counter\n",
        "\n",
        "    def vectorize(self,text_array,max_len=None):        \n",
        "        \"\"\" \n",
        "    \n",
        "        Function to vecotrize the texts data in integers values for the computer to understand \n",
        "        \n",
        "            Inputs: Array of list of text values, maximum length of tokenization \n",
        "            Return: Array of list of integers values\n",
        "    \n",
        "        \"\"\"\n",
        "\n",
        "        if max_len == None:\n",
        "            max_len = max([len(x) for x in text_array])        \n",
        "        \n",
        "        vectorized_array = np.zeros((len(text_array), max_len),dtype='int32')\n",
        "        for i in range(len(text_array)):\n",
        "            for j in range(len(text_array[i])):\n",
        "                if j== max_len:\n",
        "                    break\n",
        "                vectorized_array[i][j] = self.word2vec[text_array[i][j]]\n",
        "\n",
        "        return vectorized_array\n",
        "\n",
        "    def inverse_vectorize(self,array):\n",
        "        \"\"\" \n",
        "    \n",
        "        Function to inverse vecotrize the integer data to text values for humans to understand \n",
        "        \n",
        "            Inputs: Array of list of integers \n",
        "            Return: Array of text values\n",
        "    \n",
        "        \"\"\"\n",
        "        \n",
        "        max_len = len(array[0])\n",
        "        vec2word = {v:k for k,v in self.word2vec.items()}\n",
        "        inverse_vector = []\n",
        "        for i in range(len(array)):\n",
        "            temp_vec = []\n",
        "            for j in range(len(array[i])):\n",
        "                if array[i][j] == 0:\n",
        "                    break\n",
        "                temp_vec.append(vec2word[array[i][j]])\n",
        "            inverse_vector.append(' '.join(temp_vec))\n",
        "        return inverse_vector\n",
        "    \n",
        "    def vectorize_pred(self,text_array,max_len=3):\n",
        "        \"\"\" \n",
        "    \n",
        "        Function to specifically vecotrize the texts data in lables to integers values for the computer to understand \n",
        "        \n",
        "            Inputs: Array of list of text values, maximum length of tokenization \n",
        "            Return: Lists of vectorized days, months and years\n",
        "    \n",
        "        \"\"\"\n",
        "\n",
        "        for i in range(1,32):\n",
        "            self.day2vec[str(i)] = i\n",
        "        for i in range(1,13):\n",
        "            self.month2vec[str(i)] = i\n",
        "        for i in range(1,51):\n",
        "            self.year2vec[str(i+1980)] = i\n",
        "        day = []\n",
        "        month = []\n",
        "        year = []\n",
        "        for i in range(len(text_array)):\n",
        "            if text_array[i][1][0] == '0':\n",
        "                temp_vec = self.day2vec[text_array[i][1][1]]    \n",
        "            else:\n",
        "                temp_vec = self.day2vec[text_array[i][1]]\n",
        "            day.append(temp_vec)\n",
        "            if text_array[i][0][0] == '0':\n",
        "                temp_vec = self.month2vec[text_array[i][0][1]]    \n",
        "            else:\n",
        "                temp_vec = self.month2vec[text_array[i][0]]\n",
        "            month.append(temp_vec)\n",
        "            temp_vec = self.year2vec[text_array[i][2]]\n",
        "            year.append(temp_vec)\n",
        "        \n",
        "        return month, day, year"
      ],
      "execution_count": 496,
      "outputs": []
    },
    {
      "cell_type": "code",
      "metadata": {
        "id": "qzmDZWk0QE3a"
      },
      "source": [
        "data_vectorizer = vectorizer()\n",
        "d = preprocess_text(data)\n",
        "data_vectorizer.fit(d)\n",
        "x_train = data_vectorizer.vectorize(d)"
      ],
      "execution_count": 319,
      "outputs": []
    },
    {
      "cell_type": "code",
      "metadata": {
        "id": "hiyPJCEfViqx"
      },
      "source": [
        "# Preprocessing of cav file\n",
        "\n",
        "def remove_slash(data):\n",
        "    \"\"\" \n",
        "    \n",
        "    Function to replace slash with whitespace in the csv file (pandas DataFrame) \n",
        "    \n",
        "    \"\"\"\n",
        "    return data.replace('/',' ')\n",
        "\n",
        "\n",
        "y_train = train_data['Start Date-Answer'].apply(remove_slash).values\n",
        "\n",
        "# tokenization and vecotrization of label data\n",
        "\n",
        "for i in range(len(y_train)):\n",
        "    y_train[i] = tokenizer.tokenize(y_train[i])\n",
        "\n",
        "y_month,y_day,y_year = data_vectorizer.vectorize_pred(y_train)"
      ],
      "execution_count": 322,
      "outputs": []
    },
    {
      "cell_type": "code",
      "metadata": {
        "id": "FBL9VkL3DMG7"
      },
      "source": [
        "# Onehot encoding the label data for loss calculation and training\n",
        "\n",
        "y_month = tf.one_hot(y_month,depth=13)\n",
        "y_day = tf.one_hot(y_day,depth=32)\n",
        "y_year = tf.one_hot(y_year,depth=50)"
      ],
      "execution_count": 324,
      "outputs": []
    },
    {
      "cell_type": "markdown",
      "metadata": {
        "id": "RDRT2SyNq2EC"
      },
      "source": [
        "## Data Split"
      ]
    },
    {
      "cell_type": "code",
      "metadata": {
        "id": "W6qoetVw0SfI"
      },
      "source": [
        "# Splitting data in Valdiation and training sets\n",
        "\n",
        "x_val = x_train[400:]\n",
        "x_train = x_train[:400]\n",
        "y_val_day = y_day[400:]\n",
        "y_val_month = y_month[400:]\n",
        "y_val_year = y_year[400:]\n",
        "y_day = y_day[:400]\n",
        "y_month = y_month[:400]\n",
        "y_year = y_year[:400]"
      ],
      "execution_count": 325,
      "outputs": []
    },
    {
      "cell_type": "code",
      "metadata": {
        "id": "bQVA2VhxQh-0"
      },
      "source": [
        "# Preperation of tensorflow tf.data pipeline ro input in the model\n",
        "\n",
        "dataset = tf.data.Dataset.from_tensor_slices((x_train,(y_month,y_day,y_year))).shuffle(16).batch(BATCH_SIZE).cache().repeat().prefetch(tf.data.AUTOTUNE)\n",
        "val_dataset = tf.data.Dataset.from_tensor_slices((x_val,(y_val_month,y_val_day,y_val_year))).batch(1).cache().prefetch(tf.data.AUTOTUNE)"
      ],
      "execution_count": 508,
      "outputs": []
    },
    {
      "cell_type": "markdown",
      "metadata": {
        "id": "1tF5rKJaq8C6"
      },
      "source": [
        "# Build Model"
      ]
    },
    {
      "cell_type": "code",
      "metadata": {
        "id": "rZAo7l9CqJfQ",
        "colab": {
          "base_uri": "https://localhost:8080/"
        },
        "outputId": "c2897c4b-a0cd-454a-dc1e-e8d7484b5cfc"
      },
      "source": [
        "# Defining the function to build a Recurrent Nerual network (RNN) model\n",
        "\n",
        "def build_model():\n",
        "    \"\"\" \n",
        "    \n",
        "    This function builds a model to be trained \n",
        "\n",
        "    Returns: Tensorflow/keras model \n",
        "    \n",
        "    \"\"\"\n",
        "    \n",
        "    decay_lr = tf.keras.optimizers.schedules.ExponentialDecay(0.001,decay_steps=10000,decay_rate=0.96,staircase=True)\n",
        "    adam = O.Adam(learning_rate=decay_lr)\n",
        "    loss_object = Lo.SparseCategoricalCrossentropy(from_logits=True,reduction='none')\n",
        "\n",
        "    text_input = tf.keras.layers.Input(shape=(x_train.shape[1],))\n",
        "    x = L.Embedding(len(data_vectorizer.word2vec),1000,name='Input1')(text_input)\n",
        "    x = L.Bidirectional(L.LSTM(32))(x)\n",
        "    # x2 = L.Embedding(len(data_vectorizer.word2vec),100,name='Input2')(text_input)\n",
        "    # x2 = L.Bidirectional(L.LSTM(32))(x2)\n",
        "    # x3 = L.Embedding(len(data_vectorizer.word2vec),100,name='Input3')(text_input)\n",
        "    # x3 = L.Bidirectional(L.LSTM(32))(x3)\n",
        "    # x = tf.expand_dims(x,axis=1)\n",
        "    x1 = L.Dense(512,activation='relu')(x)\n",
        "    x1 = L.Dense(256,activation='relu')(x1)\n",
        "    x1 = L.Dropout(0.5)(x1)\n",
        "    x1 = L.Dense(128,activation='relu')(x1)\n",
        "    x1 = L.Dense(13,kernel_initializer='glorot_uniform',activation='softmax',name='out1')(x1)\n",
        "    x2 = L.Dense(512,activation='relu')(x)\n",
        "    x2 = L.Dense(256,activation='relu')(x2)\n",
        "    x2 = L.Dropout(0.5)(x2)\n",
        "    x2 = L.Dense(128,activation='relu')(x2)\n",
        "    x2 = L.Dense(32,kernel_initializer='glorot_uniform',activation='softmax',name='out2')(x2)\n",
        "    x3 = L.Dense(512,activation='relu')(x)\n",
        "    x3 = L.Dense(256,activation='relu')(x3)\n",
        "    x3 = L.Dropout(0.5)(x3)\n",
        "    x3 = L.Dense(128,activation='relu')(x3)\n",
        "    x3 = L.Dense(50,kernel_initializer='glorot_uniform',activation='softmax',name='out3')(x3)\n",
        "    \n",
        "    model = M.Model(inputs=text_input,outputs=[x1,x2,x3])\n",
        "    \n",
        "    model.compile(optimizer=adam,loss={'out1':'categorical_crossentropy','out2':'categorical_crossentropy','out3':'categorical_crossentropy'},metrics=[tf.keras.metrics.CategoricalAccuracy()])\n",
        "    return model\n",
        "\n",
        "model = build_model()\n",
        "model.summary()"
      ],
      "execution_count": 436,
      "outputs": [
        {
          "output_type": "stream",
          "name": "stdout",
          "text": [
            "Model: \"model_41\"\n",
            "__________________________________________________________________________________________________\n",
            " Layer (type)                   Output Shape         Param #     Connected to                     \n",
            "==================================================================================================\n",
            " input_45 (InputLayer)          [(None, 375)]        0           []                               \n",
            "                                                                                                  \n",
            " Input1 (Embedding)             (None, 375, 1000)    5655000     ['input_45[0][0]']               \n",
            "                                                                                                  \n",
            " bidirectional_60 (Bidirectiona  (None, 64)          264448      ['Input1[0][0]']                 \n",
            " l)                                                                                               \n",
            "                                                                                                  \n",
            " dense_390 (Dense)              (None, 512)          33280       ['bidirectional_60[0][0]']       \n",
            "                                                                                                  \n",
            " dense_393 (Dense)              (None, 512)          33280       ['bidirectional_60[0][0]']       \n",
            "                                                                                                  \n",
            " dense_396 (Dense)              (None, 512)          33280       ['bidirectional_60[0][0]']       \n",
            "                                                                                                  \n",
            " dense_391 (Dense)              (None, 256)          131328      ['dense_390[0][0]']              \n",
            "                                                                                                  \n",
            " dense_394 (Dense)              (None, 256)          131328      ['dense_393[0][0]']              \n",
            "                                                                                                  \n",
            " dense_397 (Dense)              (None, 256)          131328      ['dense_396[0][0]']              \n",
            "                                                                                                  \n",
            " dropout_120 (Dropout)          (None, 256)          0           ['dense_391[0][0]']              \n",
            "                                                                                                  \n",
            " dropout_121 (Dropout)          (None, 256)          0           ['dense_394[0][0]']              \n",
            "                                                                                                  \n",
            " dropout_122 (Dropout)          (None, 256)          0           ['dense_397[0][0]']              \n",
            "                                                                                                  \n",
            " dense_392 (Dense)              (None, 128)          32896       ['dropout_120[0][0]']            \n",
            "                                                                                                  \n",
            " dense_395 (Dense)              (None, 128)          32896       ['dropout_121[0][0]']            \n",
            "                                                                                                  \n",
            " dense_398 (Dense)              (None, 128)          32896       ['dropout_122[0][0]']            \n",
            "                                                                                                  \n",
            " out1 (Dense)                   (None, 13)           1677        ['dense_392[0][0]']              \n",
            "                                                                                                  \n",
            " out2 (Dense)                   (None, 32)           4128        ['dense_395[0][0]']              \n",
            "                                                                                                  \n",
            " out3 (Dense)                   (None, 50)           6450        ['dense_398[0][0]']              \n",
            "                                                                                                  \n",
            "==================================================================================================\n",
            "Total params: 6,524,215\n",
            "Trainable params: 6,524,215\n",
            "Non-trainable params: 0\n",
            "__________________________________________________________________________________________________\n"
          ]
        }
      ]
    },
    {
      "cell_type": "code",
      "metadata": {
        "id": "wbR8G1n6OBLx",
        "colab": {
          "base_uri": "https://localhost:8080/",
          "height": 791
        },
        "outputId": "4d6bdc82-10f4-4ba7-dda1-5b5e06d34e9b"
      },
      "source": [
        "# Saving and printing the model Architecture\n",
        "\n",
        "tf.keras.utils.plot_model(model, to_file='abc.jpeg', show_shapes=True)"
      ],
      "execution_count": 437,
      "outputs": [
        {
          "output_type": "execute_result",
          "data": {
            "image/jpeg": "[encoded data removed]",
            "text/plain": [
              "<IPython.core.display.Image object>"
            ]
          },
          "metadata": {},
          "execution_count": 437
        }
      ]
    },
    {
      "cell_type": "markdown",
      "metadata": {
        "id": "VpzBJm2zrE8V"
      },
      "source": [
        "#Training"
      ]
    },
    {
      "cell_type": "code",
      "metadata": {
        "id": "rLOQSfaJHrAR"
      },
      "source": [
        "# Model training\n",
        "\n",
        "history = model.fit(dataset,\n",
        "                    epochs=EPOCHS,\n",
        "                    batch_size=BATCH_SIZE,\n",
        "                    steps_per_epoch=len(x_train)//BATCH_SIZE,\n",
        "                    validation_data=val_dataset,\n",
        "                    validation_batch_size=1)"
      ],
      "execution_count": null,
      "outputs": []
    },
    {
      "cell_type": "code",
      "metadata": {
        "id": "cxWZXbo_Hysy"
      },
      "source": [
        "# Saving the Model\n",
        "\n",
        "model.save('/content/drive/MyDrive/Zycus/model_file.h5')"
      ],
      "execution_count": 410,
      "outputs": []
    },
    {
      "cell_type": "code",
      "metadata": {
        "id": "l_MG7h6aFA17"
      },
      "source": [
        "# Loading the model \n",
        "\n",
        "model = M.load_model('/content/drive/MyDrive/Zycus/model_file.h5')"
      ],
      "execution_count": 509,
      "outputs": []
    },
    {
      "cell_type": "markdown",
      "metadata": {
        "id": "8RhXNL69QvM4"
      },
      "source": [
        "# Inference"
      ]
    },
    {
      "cell_type": "markdown",
      "metadata": {
        "id": "S1rjD_hZinbz"
      },
      "source": [
        "## Test Data Cleaning"
      ]
    },
    {
      "cell_type": "code",
      "metadata": {
        "colab": {
          "base_uri": "https://localhost:8080/",
          "height": 206
        },
        "id": "YYmoHXI9pskh",
        "outputId": "2f30ce0b-0adc-460b-dffa-cfeceee1cc1d"
      },
      "source": [
        "test_data.head()"
      ],
      "execution_count": 518,
      "outputs": [
        {
          "output_type": "execute_result",
          "data": {
            "text/html": [
              "<div>\n",
              "<style scoped>\n",
              "    .dataframe tbody tr th:only-of-type {\n",
              "        vertical-align: middle;\n",
              "    }\n",
              "\n",
              "    .dataframe tbody tr th {\n",
              "        vertical-align: top;\n",
              "    }\n",
              "\n",
              "    .dataframe thead th {\n",
              "        text-align: right;\n",
              "    }\n",
              "</style>\n",
              "<table border=\"1\" class=\"dataframe\">\n",
              "  <thead>\n",
              "    <tr style=\"text-align: right;\">\n",
              "      <th></th>\n",
              "      <th>file</th>\n",
              "      <th>value</th>\n",
              "    </tr>\n",
              "  </thead>\n",
              "  <tbody>\n",
              "    <tr>\n",
              "      <th>0</th>\n",
              "      <td>BNCMORTGAGEINC_05_17_1999-EX-10.4-LICENSING AN...</td>\n",
              "      <td>NaN</td>\n",
              "    </tr>\n",
              "    <tr>\n",
              "      <th>1</th>\n",
              "      <td>CORIOINC_07_20_2000-EX-10.5-LICENSE AND HOSTIN...</td>\n",
              "      <td>NaN</td>\n",
              "    </tr>\n",
              "    <tr>\n",
              "      <th>2</th>\n",
              "      <td>CHANGEPOINTCORP_03_08_2000-EX-10.6-LICENSE AND...</td>\n",
              "      <td>NaN</td>\n",
              "    </tr>\n",
              "    <tr>\n",
              "      <th>3</th>\n",
              "      <td>INKTOMICORP_06_08_1998-EX-10.14-SOFTWARE HOSTI...</td>\n",
              "      <td>NaN</td>\n",
              "    </tr>\n",
              "    <tr>\n",
              "      <th>4</th>\n",
              "      <td>ADMA BioManufacturing, LLC -  Amendment #3 to ...</td>\n",
              "      <td>NaN</td>\n",
              "    </tr>\n",
              "  </tbody>\n",
              "</table>\n",
              "</div>"
            ],
            "text/plain": [
              "                                                file  value\n",
              "0  BNCMORTGAGEINC_05_17_1999-EX-10.4-LICENSING AN...    NaN\n",
              "1  CORIOINC_07_20_2000-EX-10.5-LICENSE AND HOSTIN...    NaN\n",
              "2  CHANGEPOINTCORP_03_08_2000-EX-10.6-LICENSE AND...    NaN\n",
              "3  INKTOMICORP_06_08_1998-EX-10.14-SOFTWARE HOSTI...    NaN\n",
              "4  ADMA BioManufacturing, LLC -  Amendment #3 to ...    NaN"
            ]
          },
          "metadata": {},
          "execution_count": 518
        }
      ]
    },
    {
      "cell_type": "code",
      "metadata": {
        "colab": {
          "base_uri": "https://localhost:8080/"
        },
        "id": "CHBaOjDNxAHZ",
        "outputId": "de3f7504-0d4d-47bc-926d-17e35be4e313"
      },
      "source": [
        "# Identifying different filetypes in the given csv file to be changed to .txt file as per the given text files.\n",
        "\n",
        "val = set()\n",
        "for i in range(len(test_data)):\n",
        "    val.add(test_data.file.values[i][-4:])\n",
        "\n",
        "print(val)"
      ],
      "execution_count": 519,
      "outputs": [
        {
          "output_type": "stream",
          "name": "stdout",
          "text": [
            "{'.pdf', '.PDF'}\n"
          ]
        }
      ]
    },
    {
      "cell_type": "code",
      "metadata": {
        "colab": {
          "base_uri": "https://localhost:8080/"
        },
        "id": "n6eo3-m-yz6q",
        "outputId": "1fcd5343-0471-415f-d17d-d6c976d75a10"
      },
      "source": [
        "# Updating the extention of the file values in the test data csv file and Identifying the exception cases\n",
        "\n",
        "counter = 0\n",
        "missing = []\n",
        "files = os.listdir(os.path.join(file_path,'full_contract_txt/'))\n",
        "test_data.file = test_data.file.apply(change_ext)\n",
        "for i in range(len(test_data)):\n",
        "    if test_data.file.values[i] not in files:\n",
        "        print(test_data.iloc[i][0])\n",
        "        missing.append(test_data.file.values[i])\n",
        "        counter+=1\n",
        "print(len(files),counter)  "
      ],
      "execution_count": 520,
      "outputs": [
        {
          "output_type": "stream",
          "name": "stdout",
          "text": [
            "Monsanto Company - SECOND A&R EXCLUSIVE AGENCY AND MARKETING AGREEMENT .txt\n",
            "PACIRA PHARMACEUTICALS, INC. - A&R STRATEGIC LICENSING, DISTRIBUTION AND MARKETING AGREEMENT .txt\n",
            "SightLife Surgical, Inc. - STRATEGIC SALES & MARKETING AGREEMENT.txt\n",
            "NETGEAR,INC_04_21_2003-EX-10.16-AMENDMENT TO THE DISTRIBUTOR AGREEMENT BETWEEN INGRAM MICRO AND NETGEAR-.txt\n",
            "511 4\n"
          ]
        }
      ]
    },
    {
      "cell_type": "code",
      "metadata": {
        "id": "kkCYW6gTzGRm"
      },
      "source": [
        "# Replacing the exception cases with the correct values\n",
        "\n",
        "new_vals = [\"Monsanto Company - SECOND A_R EXCLUSIVE AGENCY AND MARKETING AGREEMENT .txt\",\n",
        "            \"PACIRA PHARMACEUTICALS, INC. - A_R STRATEGIC LICENSING, DISTRIBUTION AND MARKETING AGREEMENT .txt\",\n",
        "            \"SightLife Surgical, Inc. - STRATEGIC SALES _ MARKETING AGREEMENT.txt\",\n",
        "            \"NETGEAR,INC_04_21_2003-EX-10.16-AMENDMENT TO THE DISTRIBUTOR AGREEMENT BETWEEN INGRAM MICRO AND NETGEAR.txt\"]\n",
        "\n",
        "test_data.file.replace(missing,new_vals,inplace=True)"
      ],
      "execution_count": 521,
      "outputs": []
    },
    {
      "cell_type": "markdown",
      "metadata": {
        "id": "GtGOFL51Px9R"
      },
      "source": [
        "## Test Data Preprocessing"
      ]
    },
    {
      "cell_type": "code",
      "metadata": {
        "id": "RYkezhyLPx9g"
      },
      "source": [
        "# Fetching and storing the test data from the txt files in variables\n",
        "\n",
        "test_files = test_data.file.values\n",
        "\n",
        "t_data = []\n",
        "for i in range(len(test_files)):\n",
        "    with open(os.path.join(file_path,'full_contract_txt/'+test_files[i]),'r') as f:\n",
        "        t_data.append(f.read())"
      ],
      "execution_count": 446,
      "outputs": []
    },
    {
      "cell_type": "code",
      "metadata": {
        "id": "gyxOleesPx9k",
        "colab": {
          "base_uri": "https://localhost:8080/",
          "height": 88,
          "referenced_widgets": [
            "af272f27250d4eecb40d9aea08df0ebd",
            "e5a2ce943e8640afa77d584b56bda67a",
            "2a22fb3fa612466487ff09d7b5dda44d",
            "21c25ed415bd47db866e9b2621e5b75d",
            "2d892ad755e0472e9657f2328032336b",
            "ed361e6421f64bf491833754cc077d58",
            "6bd7850c02884942b34935e4d88c2133",
            "40fdd795975f4d61b9369c6fc6012512",
            "57b0799731ca4731827cbbbd2837e0a5",
            "8f9ea1b62fed4d7ca1d2660255026ea8",
            "686696f865ab465ea6f5e67b80a2a065"
          ]
        },
        "outputId": "35896140-329b-418e-eead-a114a3538f69"
      },
      "source": [
        "# Preprocessing and preperatopm of test data to be provided as input to the model for prediction\n",
        "\n",
        "x_test = preprocess_text(t_data)\n",
        "x_test = data_vectorizer.vectorize(x_test,max_len=x_train.shape[1])\n",
        "\n",
        "test_dataset = tf.data.Dataset.from_tensor_slices(x_test).batch(1).prefetch(tf.data.AUTOTUNE)"
      ],
      "execution_count": 447,
      "outputs": [
        {
          "output_type": "display_data",
          "data": {
            "application/vnd.jupyter.widget-view+json": {
              "model_id": "af272f27250d4eecb40d9aea08df0ebd",
              "version_minor": 0,
              "version_major": 2
            },
            "text/plain": [
              "  0%|          | 0/48 [00:00<?, ?it/s]"
            ]
          },
          "metadata": {}
        },
        {
          "output_type": "stream",
          "name": "stdout",
          "text": [
            "['exhibit', '1010', 'confidential', 'treatment', 'request', 'information', 'confidential', 'treatment', 'request', 'omit', 'mark', 'unredacted', 'version', 'document', 'also', 'furnish', 'separately', 'exchange', 'commission', 'require', 'rule', '406', 'act', '1933', 'amend', 'master', 'development', 'manufacture', 'agreement', 'master', 'development', 'manufacture', 'agreement', 'include', 'appendices', 'hereto', 'agreement', 'enter', 'february', '13', '2018', 'effective', 'date', 'magenta', 'therapeutics', 'delaware', 'corporation', '50', 'hampshire', 'street', '8', 'h', 'floor', '02139', 'magenta', 'california', 'corporation', '3132', 'street', 'ca', '90505', 'magenta', 'may', 'refer', 'individually', 'party', 'collectively', 'party', 'whereas', 'magenta', 'engage', 'development', 'research', 'certain', 'pharmaceutical', 'require', 'assistance', 'development', 'manufacture', 'active', 'pharmaceutical', 'clinical', 'whereas', 'contract', 'manufacturer', 'possess', 'necessary', 'technical', 'operate', 'pharmaceutical', 'process', 'development', 'development', 'manufacture', 'pharmaceutical', 'use', 'clinical', 'require', 'magenta', 'whereas', 'magenta', 'desire', 'provide', 'service', 'manufacture', 'specify', 'project', 'plan', 'define', 'whereas', 'will', 'provide', 'service', 'manufacture', 'product', 'fulfill', 'project', 'plan', 'term', 'condition', 'set', 'forth', 'therefore', 'consideration', 'mutual', 'promise', 'contain', 'herein', 'good', 'valuable', 'consideration', 'receipt', 'adequacy', 'party', 'hereby', 'acknowledge', 'party', 'intend', 'legally', 'bind', 'agree', 'follow', 'section', '1', 'use', 'herein', 'follow', 'term', 'shall', 'follow', 'mean', '11', 'affiliate', 'shall', 'mean', 'corporation', 'entity', 'control', 'control', 'common', 'control', 'party', 'agreement', 'corporation', 'entity', 'shall', 'regard', 'hi', 'control', 'another', 'corporation', 'entity', 'own', 'directly', 'indirectly', 'control', 'fifty', 'percent', '50', 'vote', 'stock', 'ownership', 'interest', 'corporation', 'entity', 'possess', 'directly', 'indirectly', 'power', 'direct', 'cause', 'direction', 'management', 'corporation', 'entity', 'power', 'elect', 'appoint', 'fifty', 'percent', '50', 'govern', 'body', 'corporation', 'entity', '12']\n"
          ]
        }
      ]
    },
    {
      "cell_type": "markdown",
      "metadata": {
        "id": "4OQNRh0BQ1fm"
      },
      "source": [
        "## Prediction"
      ]
    },
    {
      "cell_type": "code",
      "metadata": {
        "id": "XXr8Kr28KcO-"
      },
      "source": [
        "# Predicting the month, day and year from the given text data\n",
        "\n",
        "pred_month,pred_day,pred_year = model.predict(test_dataset)"
      ],
      "execution_count": 490,
      "outputs": []
    },
    {
      "cell_type": "code",
      "metadata": {
        "id": "fcGoK4yZHeCP"
      },
      "source": [
        "# Post processing the data to be understood by humans\n",
        "\n",
        "pred = np.empty((len(pred_month),3),dtype='int32')\n",
        "\n",
        "pred_month = np.argmax(pred_month,axis=-1)\n",
        "pred_day = np.argmax(pred_day,axis=-1)\n",
        "pred_year = np.argmax(pred_year,axis=-1)\n",
        "\n",
        "for i in range(len(pred_month)):\n",
        "    pred[i][0] = pred_month[i]\n",
        "    pred[i][1] = pred_day[i]\n",
        "    pred[i][2] = pred_year[i]+1980\n",
        "\n",
        "result = [str(pred[i][0])+'/'+str(pred[i][1])+'/'+str(pred[i][2]) for i in range(len(pred))]"
      ],
      "execution_count": 492,
      "outputs": []
    },
    {
      "cell_type": "code",
      "metadata": {
        "id": "XDqTO6YGXx41"
      },
      "source": [
        "# Stroing the data in the prediction.csv file\n",
        "\n",
        "test_data['value'] = result\n",
        "test_data['value'] = test_data['value'].apply(lambda x: x.replace('0/','[]/'))\n",
        "test_data.to_csv('Prediction.csv',index=False)"
      ],
      "execution_count": 524,
      "outputs": []
    },
    {
      "cell_type": "code",
      "metadata": {
        "colab": {
          "base_uri": "https://localhost:8080/",
          "height": 206
        },
        "id": "crZpE5VL0f1-",
        "outputId": "1be90b64-c7b2-4ded-e283-d94c78ba4335"
      },
      "source": [
        "test_data.head()"
      ],
      "execution_count": 525,
      "outputs": [
        {
          "output_type": "execute_result",
          "data": {
            "text/html": [
              "<div>\n",
              "<style scoped>\n",
              "    .dataframe tbody tr th:only-of-type {\n",
              "        vertical-align: middle;\n",
              "    }\n",
              "\n",
              "    .dataframe tbody tr th {\n",
              "        vertical-align: top;\n",
              "    }\n",
              "\n",
              "    .dataframe thead th {\n",
              "        text-align: right;\n",
              "    }\n",
              "</style>\n",
              "<table border=\"1\" class=\"dataframe\">\n",
              "  <thead>\n",
              "    <tr style=\"text-align: right;\">\n",
              "      <th></th>\n",
              "      <th>file</th>\n",
              "      <th>value</th>\n",
              "    </tr>\n",
              "  </thead>\n",
              "  <tbody>\n",
              "    <tr>\n",
              "      <th>0</th>\n",
              "      <td>BNCMORTGAGEINC_05_17_1999-EX-10.4-LICENSING AN...</td>\n",
              "      <td>3/29/1995</td>\n",
              "    </tr>\n",
              "    <tr>\n",
              "      <th>1</th>\n",
              "      <td>CORIOINC_07_20_2000-EX-10.5-LICENSE AND HOSTIN...</td>\n",
              "      <td>11/23/1997</td>\n",
              "    </tr>\n",
              "    <tr>\n",
              "      <th>2</th>\n",
              "      <td>CHANGEPOINTCORP_03_08_2000-EX-10.6-LICENSE AND...</td>\n",
              "      <td>11/3/2012</td>\n",
              "    </tr>\n",
              "    <tr>\n",
              "      <th>3</th>\n",
              "      <td>INKTOMICORP_06_08_1998-EX-10.14-SOFTWARE HOSTI...</td>\n",
              "      <td>12/21/1999</td>\n",
              "    </tr>\n",
              "    <tr>\n",
              "      <th>4</th>\n",
              "      <td>ADMA BioManufacturing, LLC -  Amendment #3 to ...</td>\n",
              "      <td>2/3/2004</td>\n",
              "    </tr>\n",
              "  </tbody>\n",
              "</table>\n",
              "</div>"
            ],
            "text/plain": [
              "                                                file       value\n",
              "0  BNCMORTGAGEINC_05_17_1999-EX-10.4-LICENSING AN...   3/29/1995\n",
              "1  CORIOINC_07_20_2000-EX-10.5-LICENSE AND HOSTIN...  11/23/1997\n",
              "2  CHANGEPOINTCORP_03_08_2000-EX-10.6-LICENSE AND...   11/3/2012\n",
              "3  INKTOMICORP_06_08_1998-EX-10.14-SOFTWARE HOSTI...  12/21/1999\n",
              "4  ADMA BioManufacturing, LLC -  Amendment #3 to ...    2/3/2004"
            ]
          },
          "metadata": {},
          "execution_count": 525
        }
      ]
    }
  ]
}